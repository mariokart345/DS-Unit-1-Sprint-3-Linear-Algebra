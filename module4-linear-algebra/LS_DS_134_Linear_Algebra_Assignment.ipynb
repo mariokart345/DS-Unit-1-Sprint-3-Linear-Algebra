{
  "nbformat": 4,
  "nbformat_minor": 0,
  "metadata": {
    "colab": {
      "name": "LS_DS_134_Linear_Algebra_Assignment.ipynb",
      "provenance": [],
      "collapsed_sections": [],
      "include_colab_link": true
    },
    "kernelspec": {
      "display_name": "Python 3",
      "language": "python",
      "name": "python3"
    },
    "language_info": {
      "codemirror_mode": {
        "name": "ipython",
        "version": 3
      },
      "file_extension": ".py",
      "mimetype": "text/x-python",
      "name": "python",
      "nbconvert_exporter": "python",
      "pygments_lexer": "ipython3",
      "version": "3.6.4"
    }
  },
  "cells": [
    {
      "cell_type": "markdown",
      "metadata": {
        "id": "view-in-github",
        "colab_type": "text"
      },
      "source": [
        "<a href=\"https://colab.research.google.com/github/mariokart345/DS-Unit-1-Sprint-3-Linear-Algebra/blob/master/module4-linear-algebra/LS_DS_134_Linear_Algebra_Assignment.ipynb\" target=\"_parent\"><img src=\"https://colab.research.google.com/assets/colab-badge.svg\" alt=\"Open In Colab\"/></a>"
      ]
    },
    {
      "cell_type": "markdown",
      "metadata": {
        "id": "iovQcSbqJl0_"
      },
      "source": [
        "## Objectives:\n",
        "- define a vector and calculate a vector length and dot product\n",
        "- define a matrix and calculate a matrix dot product, transpose, and inverse\n",
        "- explain cosine similarity and compute the similarity between two vectors\n",
        "- use linear algebra to solve for linear regression coefficients"
      ]
    },
    {
      "cell_type": "markdown",
      "metadata": {
        "id": "cFb8YfSCQJmx"
      },
      "source": [
        "#Use the following information to answer the assignment questions 1) - 11)."
      ]
    },
    {
      "cell_type": "markdown",
      "metadata": {
        "id": "MHWnltybtm8_"
      },
      "source": [
        "###Is head size related to brain weight in healthy adult humans?\n",
        "\n",
        "The Brainhead.csv dataset provides information on 237 individuals who were subject to post-mortem examination at the Middlesex Hospital in London around the turn of the 20th century. Study authors used cadavers to see if a relationship between brain weight and other more easily measured physiological characterizes such as age, sex, and head size could be determined. The end goal was to develop a way to estimate a person’s brain size while they were still alive (as the living aren’t keen on having their brains taken out and weighed). "
      ]
    },
    {
      "cell_type": "markdown",
      "metadata": {
        "id": "h5MRpr1HQHqp"
      },
      "source": [
        "**We wish to determine if we can improve on our model of the linear relationship between head size and brain weight in healthy human adults.**\n",
        "\n",
        "Source: R.J. Gladstone (1905). \"A Study of the Relations of the Brain to the Size of the Head\", Biometrika, Vol. 4, pp105-123."
      ]
    },
    {
      "cell_type": "code",
      "metadata": {
        "id": "0NKz1DvXQHqq",
        "outputId": "39976b28-049c-4c2e-a9a0-205a120cd42a",
        "colab": {
          "base_uri": "https://localhost:8080/",
          "height": 204
        }
      },
      "source": [
        "#Import the Brainhead.csv dataset from a URL and print the first few rows\n",
        "import pandas as pd\n",
        "import numpy as np\n",
        "data_url = 'https://raw.githubusercontent.com/LambdaSchool/data-science-practice-datasets/main/unit_1/Brainhead/Brainhead.csv'\n",
        "df = pd.read_csv(data_url, skipinitialspace=True, header=0)\n",
        "df.head()"
      ],
      "execution_count": 19,
      "outputs": [
        {
          "output_type": "execute_result",
          "data": {
            "text/html": [
              "<div>\n",
              "<style scoped>\n",
              "    .dataframe tbody tr th:only-of-type {\n",
              "        vertical-align: middle;\n",
              "    }\n",
              "\n",
              "    .dataframe tbody tr th {\n",
              "        vertical-align: top;\n",
              "    }\n",
              "\n",
              "    .dataframe thead th {\n",
              "        text-align: right;\n",
              "    }\n",
              "</style>\n",
              "<table border=\"1\" class=\"dataframe\">\n",
              "  <thead>\n",
              "    <tr style=\"text-align: right;\">\n",
              "      <th></th>\n",
              "      <th>Gender</th>\n",
              "      <th>Age</th>\n",
              "      <th>Head</th>\n",
              "      <th>Brain</th>\n",
              "    </tr>\n",
              "  </thead>\n",
              "  <tbody>\n",
              "    <tr>\n",
              "      <th>0</th>\n",
              "      <td>1</td>\n",
              "      <td>1</td>\n",
              "      <td>4512</td>\n",
              "      <td>1530</td>\n",
              "    </tr>\n",
              "    <tr>\n",
              "      <th>1</th>\n",
              "      <td>1</td>\n",
              "      <td>1</td>\n",
              "      <td>3738</td>\n",
              "      <td>1297</td>\n",
              "    </tr>\n",
              "    <tr>\n",
              "      <th>2</th>\n",
              "      <td>1</td>\n",
              "      <td>1</td>\n",
              "      <td>4261</td>\n",
              "      <td>1335</td>\n",
              "    </tr>\n",
              "    <tr>\n",
              "      <th>3</th>\n",
              "      <td>1</td>\n",
              "      <td>1</td>\n",
              "      <td>3777</td>\n",
              "      <td>1282</td>\n",
              "    </tr>\n",
              "    <tr>\n",
              "      <th>4</th>\n",
              "      <td>1</td>\n",
              "      <td>1</td>\n",
              "      <td>4177</td>\n",
              "      <td>1590</td>\n",
              "    </tr>\n",
              "  </tbody>\n",
              "</table>\n",
              "</div>"
            ],
            "text/plain": [
              "   Gender  Age  Head  Brain\n",
              "0       1    1  4512   1530\n",
              "1       1    1  3738   1297\n",
              "2       1    1  4261   1335\n",
              "3       1    1  3777   1282\n",
              "4       1    1  4177   1590"
            ]
          },
          "metadata": {
            "tags": []
          },
          "execution_count": 19
        }
      ]
    },
    {
      "cell_type": "markdown",
      "metadata": {
        "id": "UZ645l24as2R"
      },
      "source": [
        "1) Store the response variable - brain size - as a matrix called Y."
      ]
    },
    {
      "cell_type": "code",
      "metadata": {
        "id": "UVhixZZZQfUw",
        "outputId": "b9057ea7-3590-4766-d0a5-862551e24688",
        "colab": {
          "base_uri": "https://localhost:8080/"
        }
      },
      "source": [
        "Y = np.array(df['Brain']).reshape(-1,1)\r\n",
        "Y[0:5]"
      ],
      "execution_count": 13,
      "outputs": [
        {
          "output_type": "execute_result",
          "data": {
            "text/plain": [
              "array([[1530],\n",
              "       [1297],\n",
              "       [1335],\n",
              "       [1282],\n",
              "       [1590]])"
            ]
          },
          "metadata": {
            "tags": []
          },
          "execution_count": 13
        }
      ]
    },
    {
      "cell_type": "markdown",
      "metadata": {
        "id": "l_tU9rAlbhh4"
      },
      "source": [
        "2) Store the explanatory variable - head size size - as a matrix called X.  Don't forget to include the column of 1s for the intercept term."
      ]
    },
    {
      "cell_type": "code",
      "metadata": {
        "id": "_fGlhvmTbJdV",
        "outputId": "74cc5040-e1f1-4feb-d01f-359113182c4d",
        "colab": {
          "base_uri": "https://localhost:8080/"
        }
      },
      "source": [
        "one = np.repeat(1,len(df)).reshape(-1,1)\n",
        "X = np.concatenate((one,np.array(df['Head']).reshape(-1,1)),axis=1)\n",
        "X[0:5]"
      ],
      "execution_count": 14,
      "outputs": [
        {
          "output_type": "execute_result",
          "data": {
            "text/plain": [
              "array([[   1, 4512],\n",
              "       [   1, 3738],\n",
              "       [   1, 4261],\n",
              "       [   1, 3777],\n",
              "       [   1, 4177]])"
            ]
          },
          "metadata": {
            "tags": []
          },
          "execution_count": 14
        }
      ]
    },
    {
      "cell_type": "markdown",
      "metadata": {
        "id": "CTtxhF82ceG7"
      },
      "source": [
        "3) Calculate $X^T$.  Explain what the transpose of a matrix is."
      ]
    },
    {
      "cell_type": "code",
      "metadata": {
        "id": "m_Dd1ZbU335I"
      },
      "source": [
        "X_T = np.transpose(X)"
      ],
      "execution_count": 4,
      "outputs": []
    },
    {
      "cell_type": "markdown",
      "metadata": {
        "id": "6x8IEWIOc8qJ"
      },
      "source": [
        "Answer: The transpose of a matrix is "
      ]
    },
    {
      "cell_type": "markdown",
      "metadata": {
        "id": "GGng_b0CdJbV"
      },
      "source": [
        "4) Use matrix multplication to calculate $X^TX$"
      ]
    },
    {
      "cell_type": "code",
      "metadata": {
        "id": "_cOjfx-wcvca"
      },
      "source": [
        "X_T_X = np.matmul(X_T,X)"
      ],
      "execution_count": 15,
      "outputs": []
    },
    {
      "cell_type": "markdown",
      "metadata": {
        "id": "xihZH2tIdWGc"
      },
      "source": [
        "5) Calculate $(X^TX)^{-1}$.  Explain what the inverse of a matrix is."
      ]
    },
    {
      "cell_type": "code",
      "metadata": {
        "id": "WxOrKY9F391Z"
      },
      "source": [
        "X_T_X_inv = np.linalg.inv(X_T_X)"
      ],
      "execution_count": 16,
      "outputs": []
    },
    {
      "cell_type": "markdown",
      "metadata": {
        "id": "ZG14QgKzdnDF"
      },
      "source": [
        "Answer: "
      ]
    },
    {
      "cell_type": "markdown",
      "metadata": {
        "id": "Z3-aBWcJdwlS"
      },
      "source": [
        "6) Use matrix multiplication to calculate $X^TY$."
      ]
    },
    {
      "cell_type": "code",
      "metadata": {
        "id": "IzDRPF924FNk"
      },
      "source": [
        "X_T_Y = np.matmul(X_T,Y)"
      ],
      "execution_count": 17,
      "outputs": []
    },
    {
      "cell_type": "markdown",
      "metadata": {
        "id": "uImjL8qgeDKS"
      },
      "source": [
        "7) Use your previous results to calculate the values of the slope and intercept using the formula $$ B = (X^{'}X)^{-1}X^{'}Y$$"
      ]
    },
    {
      "cell_type": "code",
      "metadata": {
        "id": "ataF2sSMagfm",
        "outputId": "3086ef26-90f8-444f-ca9f-a790980e0d90",
        "colab": {
          "base_uri": "https://localhost:8080/"
        }
      },
      "source": [
        "B=np.matmul(X_T_X_inv,X_T_Y)\r\n",
        "B"
      ],
      "execution_count": 18,
      "outputs": [
        {
          "output_type": "execute_result",
          "data": {
            "text/plain": [
              "array([[3.25573421e+02],\n",
              "       [2.63429339e-01]])"
            ]
          },
          "metadata": {
            "tags": []
          },
          "execution_count": 18
        }
      ]
    },
    {
      "cell_type": "markdown",
      "metadata": {
        "id": "58tEkd1YibRJ"
      },
      "source": [
        "8) Use the OLS function to calculate the slope and intercept and compare your answers."
      ]
    },
    {
      "cell_type": "code",
      "metadata": {
        "id": "cAz2v2l27XQC",
        "outputId": "249a5222-e42c-40f6-9aa9-8d1d699b709c",
        "colab": {
          "base_uri": "https://localhost:8080/"
        }
      },
      "source": [
        "from statsmodels.formula.api import ols\r\n",
        "model = ols('Head ~ Brain',data=df).fit()\r\n",
        "print(model.params)"
      ],
      "execution_count": 11,
      "outputs": [
        {
          "output_type": "stream",
          "text": [
            "/usr/local/lib/python3.6/dist-packages/statsmodels/tools/_testing.py:19: FutureWarning: pandas.util.testing is deprecated. Use the functions in the public API at pandas.testing instead.\n",
            "  import pandas.util.testing as tm\n"
          ],
          "name": "stderr"
        },
        {
          "output_type": "stream",
          "text": [
            "Intercept    520.610141\n",
            "Brain          2.426881\n",
            "dtype: float64\n"
          ],
          "name": "stdout"
        }
      ]
    },
    {
      "cell_type": "markdown",
      "metadata": {
        "id": "fldeKZQJiWJY"
      },
      "source": [
        "9) Create a new X matrix that includes columns for both head size and age group."
      ]
    },
    {
      "cell_type": "code",
      "metadata": {
        "id": "p5k_g4HBkPvv"
      },
      "source": [
        ""
      ],
      "execution_count": null,
      "outputs": []
    },
    {
      "cell_type": "markdown",
      "metadata": {
        "id": "NaPLUX6P7eV6"
      },
      "source": [
        "11) Calculate the values of the intercept and slope terms for head size and age using the formula $$ B = (X^{'}X)^{-1}X^{'}Y$$"
      ]
    },
    {
      "cell_type": "code",
      "metadata": {
        "id": "wffPKuJVkrCB"
      },
      "source": [
        ""
      ],
      "execution_count": null,
      "outputs": []
    },
    {
      "cell_type": "markdown",
      "metadata": {
        "id": "m92gsZo-8TcP"
      },
      "source": [
        "11) Use the OLS function to confirm your answer in 10)."
      ]
    },
    {
      "cell_type": "code",
      "metadata": {
        "id": "1k7mU2R-lGeL"
      },
      "source": [
        "### YOUR CODE HERE ###"
      ],
      "execution_count": null,
      "outputs": []
    },
    {
      "cell_type": "markdown",
      "metadata": {
        "id": "J10sSUChlzRH"
      },
      "source": [
        "#Use the following information to answer the assignment questions 12) - 16)."
      ]
    },
    {
      "cell_type": "markdown",
      "metadata": {
        "id": "9k2KIZbTl2kb"
      },
      "source": [
        "The song writing collaboration between John Lennon and Paul McCartney was one of the most productive in music history.  Unlike many other partnerships where one individual wrote lyrics and one wrote music, Lennon and McCartney composed both, and it was decided that any song that was written would be credited to both.  In the beginning of their relationship, many of their songs were truly collabroative.  However, later on, they often worked separately with little to no input from the other.    "
      ]
    },
    {
      "cell_type": "markdown",
      "metadata": {
        "id": "LsUaHKcEnhqc"
      },
      "source": [
        "Because of extensive reporting on the Beatles over the years, it is generally known if a Lennon-McCartney song was a true collabortion, primarily (or totally) writen by Lennon, or primarily (or totally) written by McCartney.  \n",
        "\n",
        "However, there are several disputed songs where both Lennon and McCartney at times claimed to be the sole (or primary) composer.\n",
        "\n",
        "We will now use cosine similarity to determine if *Ticket to Ride* (disputed) is most similar to *From Me to You* (collabortive, not disputed) or *Strawberry Fields* (Lennon, not disputed).\n",
        "\n",
        "From the Wikipedia article on the Lennon-McCartney Partnership: Lennon said that McCartney's contribution was limited to \"the way Ringo played the drums\".In Many Years from Now, McCartney said \"we sat down and wrote it together ... give him 60 percent of it.\""
      ]
    },
    {
      "cell_type": "markdown",
      "metadata": {
        "id": "MVipjsqR9o5y"
      },
      "source": [
        "12) Import the text of Strawberry Fields and calculate the freqency of song lyrics using the code below."
      ]
    },
    {
      "cell_type": "code",
      "metadata": {
        "id": "6SuKxo-lYsCR"
      },
      "source": [
        "### YOUR CODE HERE ###\n"
      ],
      "execution_count": null,
      "outputs": []
    },
    {
      "cell_type": "markdown",
      "metadata": {
        "id": "K0z7cO3i_uQ_"
      },
      "source": [
        "13) Import the text of From Me to You and calculate the freqency of song lyrics using the code below."
      ]
    },
    {
      "cell_type": "code",
      "metadata": {
        "id": "jKcCwgydn0Rr"
      },
      "source": [
        "### YOUR CODE HERE ###"
      ],
      "execution_count": null,
      "outputs": []
    },
    {
      "cell_type": "markdown",
      "metadata": {
        "id": "UNFG_UOT9y2Z"
      },
      "source": [
        "13) Import the text of Ticket to Ride using the code below."
      ]
    },
    {
      "cell_type": "code",
      "metadata": {
        "id": "Fh89MZnHAgcc"
      },
      "source": [
        "### YOUR CODE HERE ###\n"
      ],
      "execution_count": null,
      "outputs": []
    },
    {
      "cell_type": "markdown",
      "metadata": {
        "id": "c8ieic21sH4j"
      },
      "source": [
        "14) Concatenate Ticket to Ride and Strawberry Fields and calculate the cosine similarity."
      ]
    },
    {
      "cell_type": "code",
      "metadata": {
        "id": "5GYIQ3jf88MI"
      },
      "source": [
        "### YOUR CODE HERE ###\n",
        "\n"
      ],
      "execution_count": null,
      "outputs": []
    },
    {
      "cell_type": "markdown",
      "metadata": {
        "id": "JCFn7l2XCefQ"
      },
      "source": [
        "15) Concatenate Ticket to Ride and From Me to You and calculate the cosine similarity."
      ]
    },
    {
      "cell_type": "code",
      "metadata": {
        "id": "uoj2UbIBCbJ5"
      },
      "source": [
        "### YOUR CODE HERE ###\n",
        "\n"
      ],
      "execution_count": null,
      "outputs": []
    },
    {
      "cell_type": "markdown",
      "metadata": {
        "id": "hJ-wIIvzuBaV"
      },
      "source": [
        "16) What is your conclusion about Ticket to Ride?  Does it appear most similar to Strawberry Fields (Lennon) or From Me to You (collaborative)?"
      ]
    },
    {
      "cell_type": "markdown",
      "metadata": {
        "id": "SoURb1HbDIhK"
      },
      "source": [
        "Answer: "
      ]
    }
  ]
}