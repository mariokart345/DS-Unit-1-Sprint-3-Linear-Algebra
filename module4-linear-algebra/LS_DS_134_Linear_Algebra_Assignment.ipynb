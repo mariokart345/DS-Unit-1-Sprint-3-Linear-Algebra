{
  "nbformat": 4,
  "nbformat_minor": 0,
  "metadata": {
    "colab": {
      "name": "LS_DS_134_Linear_Algebra_Assignment.ipynb",
      "provenance": [],
      "collapsed_sections": [],
      "include_colab_link": true
    },
    "kernelspec": {
      "display_name": "Python 3",
      "language": "python",
      "name": "python3"
    },
    "language_info": {
      "codemirror_mode": {
        "name": "ipython",
        "version": 3
      },
      "file_extension": ".py",
      "mimetype": "text/x-python",
      "name": "python",
      "nbconvert_exporter": "python",
      "pygments_lexer": "ipython3",
      "version": "3.6.4"
    }
  },
  "cells": [
    {
      "cell_type": "markdown",
      "metadata": {
        "id": "view-in-github",
        "colab_type": "text"
      },
      "source": [
        "<a href=\"https://colab.research.google.com/github/mariokart345/DS-Unit-1-Sprint-3-Linear-Algebra/blob/master/module4-linear-algebra/LS_DS_134_Linear_Algebra_Assignment.ipynb\" target=\"_parent\"><img src=\"https://colab.research.google.com/assets/colab-badge.svg\" alt=\"Open In Colab\"/></a>"
      ]
    },
    {
      "cell_type": "markdown",
      "metadata": {
        "id": "iovQcSbqJl0_"
      },
      "source": [
        "## Objectives:\n",
        "- define a vector and calculate a vector length and dot product\n",
        "- define a matrix and calculate a matrix dot product, transpose, and inverse\n",
        "- explain cosine similarity and compute the similarity between two vectors\n",
        "- use linear algebra to solve for linear regression coefficients"
      ]
    },
    {
      "cell_type": "markdown",
      "metadata": {
        "id": "cFb8YfSCQJmx"
      },
      "source": [
        "#Use the following information to answer the assignment questions 1) - 11)."
      ]
    },
    {
      "cell_type": "markdown",
      "metadata": {
        "id": "MHWnltybtm8_"
      },
      "source": [
        "###Is head size related to brain weight in healthy adult humans?\n",
        "\n",
        "The Brainhead.csv dataset provides information on 237 individuals who were subject to post-mortem examination at the Middlesex Hospital in London around the turn of the 20th century. Study authors used cadavers to see if a relationship between brain weight and other more easily measured physiological characterizes such as age, sex, and head size could be determined. The end goal was to develop a way to estimate a person’s brain size while they were still alive (as the living aren’t keen on having their brains taken out and weighed). "
      ]
    },
    {
      "cell_type": "markdown",
      "metadata": {
        "id": "h5MRpr1HQHqp"
      },
      "source": [
        "**We wish to determine if we can improve on our model of the linear relationship between head size and brain weight in healthy human adults.**\n",
        "\n",
        "Source: R.J. Gladstone (1905). \"A Study of the Relations of the Brain to the Size of the Head\", Biometrika, Vol. 4, pp105-123."
      ]
    },
    {
      "cell_type": "code",
      "metadata": {
        "id": "0NKz1DvXQHqq",
        "colab": {
          "base_uri": "https://localhost:8080/",
          "height": 204
        },
        "outputId": "4427317f-5a61-4c69-bd30-b3e7cd1bd9f7"
      },
      "source": [
        "#Import the Brainhead.csv dataset from a URL and print the first few rows\n",
        "import pandas as pd\n",
        "import numpy as np\n",
        "data_url = 'https://raw.githubusercontent.com/LambdaSchool/data-science-practice-datasets/main/unit_1/Brainhead/Brainhead.csv'\n",
        "df = pd.read_csv(data_url, skipinitialspace=True, header=0)\n",
        "df.head()"
      ],
      "execution_count": 1,
      "outputs": [
        {
          "output_type": "execute_result",
          "data": {
            "text/html": [
              "<div>\n",
              "<style scoped>\n",
              "    .dataframe tbody tr th:only-of-type {\n",
              "        vertical-align: middle;\n",
              "    }\n",
              "\n",
              "    .dataframe tbody tr th {\n",
              "        vertical-align: top;\n",
              "    }\n",
              "\n",
              "    .dataframe thead th {\n",
              "        text-align: right;\n",
              "    }\n",
              "</style>\n",
              "<table border=\"1\" class=\"dataframe\">\n",
              "  <thead>\n",
              "    <tr style=\"text-align: right;\">\n",
              "      <th></th>\n",
              "      <th>Gender</th>\n",
              "      <th>Age</th>\n",
              "      <th>Head</th>\n",
              "      <th>Brain</th>\n",
              "    </tr>\n",
              "  </thead>\n",
              "  <tbody>\n",
              "    <tr>\n",
              "      <th>0</th>\n",
              "      <td>1</td>\n",
              "      <td>1</td>\n",
              "      <td>4512</td>\n",
              "      <td>1530</td>\n",
              "    </tr>\n",
              "    <tr>\n",
              "      <th>1</th>\n",
              "      <td>1</td>\n",
              "      <td>1</td>\n",
              "      <td>3738</td>\n",
              "      <td>1297</td>\n",
              "    </tr>\n",
              "    <tr>\n",
              "      <th>2</th>\n",
              "      <td>1</td>\n",
              "      <td>1</td>\n",
              "      <td>4261</td>\n",
              "      <td>1335</td>\n",
              "    </tr>\n",
              "    <tr>\n",
              "      <th>3</th>\n",
              "      <td>1</td>\n",
              "      <td>1</td>\n",
              "      <td>3777</td>\n",
              "      <td>1282</td>\n",
              "    </tr>\n",
              "    <tr>\n",
              "      <th>4</th>\n",
              "      <td>1</td>\n",
              "      <td>1</td>\n",
              "      <td>4177</td>\n",
              "      <td>1590</td>\n",
              "    </tr>\n",
              "  </tbody>\n",
              "</table>\n",
              "</div>"
            ],
            "text/plain": [
              "   Gender  Age  Head  Brain\n",
              "0       1    1  4512   1530\n",
              "1       1    1  3738   1297\n",
              "2       1    1  4261   1335\n",
              "3       1    1  3777   1282\n",
              "4       1    1  4177   1590"
            ]
          },
          "metadata": {
            "tags": []
          },
          "execution_count": 1
        }
      ]
    },
    {
      "cell_type": "markdown",
      "metadata": {
        "id": "UZ645l24as2R"
      },
      "source": [
        "1) Store the response variable - brain size - as a matrix called Y."
      ]
    },
    {
      "cell_type": "code",
      "metadata": {
        "id": "UVhixZZZQfUw",
        "colab": {
          "base_uri": "https://localhost:8080/"
        },
        "outputId": "1ef7dc52-1ac6-43e5-c00a-acb9124f5c1f"
      },
      "source": [
        "Y = np.array(df['Brain']).reshape(-1,1)\r\n",
        "Y[0:5]"
      ],
      "execution_count": 2,
      "outputs": [
        {
          "output_type": "execute_result",
          "data": {
            "text/plain": [
              "array([[1530],\n",
              "       [1297],\n",
              "       [1335],\n",
              "       [1282],\n",
              "       [1590]])"
            ]
          },
          "metadata": {
            "tags": []
          },
          "execution_count": 2
        }
      ]
    },
    {
      "cell_type": "markdown",
      "metadata": {
        "id": "l_tU9rAlbhh4"
      },
      "source": [
        "2) Store the explanatory variable - head size size - as a matrix called X.  Don't forget to include the column of 1s for the intercept term."
      ]
    },
    {
      "cell_type": "code",
      "metadata": {
        "id": "_fGlhvmTbJdV",
        "colab": {
          "base_uri": "https://localhost:8080/"
        },
        "outputId": "014c835f-adc5-481e-e3ca-ffcfaeee966c"
      },
      "source": [
        "one = np.repeat(1,len(df)).reshape(-1,1)\n",
        "head = np.array(df['Head']).reshape(-1,1)\n",
        "X = np.concatenate((one,head),axis=1)\n",
        "X[0:5]"
      ],
      "execution_count": 3,
      "outputs": [
        {
          "output_type": "execute_result",
          "data": {
            "text/plain": [
              "array([[   1, 4512],\n",
              "       [   1, 3738],\n",
              "       [   1, 4261],\n",
              "       [   1, 3777],\n",
              "       [   1, 4177]])"
            ]
          },
          "metadata": {
            "tags": []
          },
          "execution_count": 3
        }
      ]
    },
    {
      "cell_type": "markdown",
      "metadata": {
        "id": "CTtxhF82ceG7"
      },
      "source": [
        "3) Calculate $X^T$.  Explain what the transpose of a matrix is."
      ]
    },
    {
      "cell_type": "code",
      "metadata": {
        "id": "m_Dd1ZbU335I"
      },
      "source": [
        "X_T = np.transpose(X)"
      ],
      "execution_count": 4,
      "outputs": []
    },
    {
      "cell_type": "markdown",
      "metadata": {
        "id": "6x8IEWIOc8qJ"
      },
      "source": [
        "Answer: The transpose of a matrix is "
      ]
    },
    {
      "cell_type": "markdown",
      "metadata": {
        "id": "GGng_b0CdJbV"
      },
      "source": [
        "4) Use matrix multplication to calculate $X^TX$"
      ]
    },
    {
      "cell_type": "code",
      "metadata": {
        "id": "_cOjfx-wcvca"
      },
      "source": [
        "X_T_X = np.matmul(X_T,X)"
      ],
      "execution_count": 5,
      "outputs": []
    },
    {
      "cell_type": "markdown",
      "metadata": {
        "id": "xihZH2tIdWGc"
      },
      "source": [
        "5) Calculate $(X^TX)^{-1}$.  Explain what the inverse of a matrix is."
      ]
    },
    {
      "cell_type": "code",
      "metadata": {
        "id": "WxOrKY9F391Z"
      },
      "source": [
        "X_T_X_inv = np.linalg.inv(X_T_X)"
      ],
      "execution_count": 6,
      "outputs": []
    },
    {
      "cell_type": "markdown",
      "metadata": {
        "id": "ZG14QgKzdnDF"
      },
      "source": [
        "Answer: "
      ]
    },
    {
      "cell_type": "markdown",
      "metadata": {
        "id": "Z3-aBWcJdwlS"
      },
      "source": [
        "6) Use matrix multiplication to calculate $X^TY$."
      ]
    },
    {
      "cell_type": "code",
      "metadata": {
        "id": "IzDRPF924FNk"
      },
      "source": [
        "X_T_Y = np.matmul(X_T,Y)"
      ],
      "execution_count": 7,
      "outputs": []
    },
    {
      "cell_type": "markdown",
      "metadata": {
        "id": "uImjL8qgeDKS"
      },
      "source": [
        "7) Use your previous results to calculate the values of the slope and intercept using the formula $$ B = (X^{'}X)^{-1}X^{'}Y$$"
      ]
    },
    {
      "cell_type": "code",
      "metadata": {
        "id": "ataF2sSMagfm",
        "colab": {
          "base_uri": "https://localhost:8080/"
        },
        "outputId": "30d5b1f0-1b58-4471-d73c-606380e44fea"
      },
      "source": [
        "B=np.matmul(X_T_X_inv,X_T_Y)\r\n",
        "B"
      ],
      "execution_count": 8,
      "outputs": [
        {
          "output_type": "execute_result",
          "data": {
            "text/plain": [
              "array([[3.25573421e+02],\n",
              "       [2.63429339e-01]])"
            ]
          },
          "metadata": {
            "tags": []
          },
          "execution_count": 8
        }
      ]
    },
    {
      "cell_type": "markdown",
      "metadata": {
        "id": "58tEkd1YibRJ"
      },
      "source": [
        "8) Use the OLS function to calculate the slope and intercept and compare your answers."
      ]
    },
    {
      "cell_type": "code",
      "metadata": {
        "id": "cAz2v2l27XQC",
        "colab": {
          "base_uri": "https://localhost:8080/"
        },
        "outputId": "641c7cc0-c659-4eda-cb34-6197762af9d9"
      },
      "source": [
        "from statsmodels.formula.api import ols\r\n",
        "model = ols('Head ~ Brain',data=df).fit()\r\n",
        "print(model.params)"
      ],
      "execution_count": 9,
      "outputs": [
        {
          "output_type": "stream",
          "text": [
            "/usr/local/lib/python3.6/dist-packages/statsmodels/tools/_testing.py:19: FutureWarning: pandas.util.testing is deprecated. Use the functions in the public API at pandas.testing instead.\n",
            "  import pandas.util.testing as tm\n"
          ],
          "name": "stderr"
        },
        {
          "output_type": "stream",
          "text": [
            "Intercept    520.610141\n",
            "Brain          2.426881\n",
            "dtype: float64\n"
          ],
          "name": "stdout"
        }
      ]
    },
    {
      "cell_type": "markdown",
      "metadata": {
        "id": "fldeKZQJiWJY"
      },
      "source": [
        "9) Create a new X matrix that includes columns for both head size and age group."
      ]
    },
    {
      "cell_type": "code",
      "metadata": {
        "id": "QHNWcv5V6yNy"
      },
      "source": [
        "df['Age']=df['Age']-1"
      ],
      "execution_count": 10,
      "outputs": []
    },
    {
      "cell_type": "code",
      "metadata": {
        "id": "l9EpybGKDLOv"
      },
      "source": [
        "age = np.array(df['Age']).reshape(-1,1)"
      ],
      "execution_count": 11,
      "outputs": []
    },
    {
      "cell_type": "code",
      "metadata": {
        "id": "p5k_g4HBkPvv"
      },
      "source": [
        "X = np.concatenate((one, head, age),axis=1)"
      ],
      "execution_count": 12,
      "outputs": []
    },
    {
      "cell_type": "markdown",
      "metadata": {
        "id": "NaPLUX6P7eV6"
      },
      "source": [
        "11) Calculate the values of the intercept and slope terms for head size and age using the formula $$ B = (X^{'}X)^{-1}X^{'}Y$$"
      ]
    },
    {
      "cell_type": "code",
      "metadata": {
        "id": "wffPKuJVkrCB",
        "outputId": "563a6c27-cf62-46ee-ccac-3bc3c8051212",
        "colab": {
          "base_uri": "https://localhost:8080/"
        }
      },
      "source": [
        "X_T = np.transpose(X)\r\n",
        "X_T_X = np.matmul(X_T,X)\r\n",
        "X_T_X_inv = np.linalg.inv(X_T_X)\r\n",
        "X_T_Y = np.matmul(X_T,Y)\r\n",
        "B=np.matmul(X_T_X_inv,X_T_Y)\r\n",
        "B"
      ],
      "execution_count": 13,
      "outputs": [
        {
          "output_type": "execute_result",
          "data": {
            "text/plain": [
              "array([[ 3.47550501e+02],\n",
              "       [ 2.60438766e-01],\n",
              "       [-2.07316446e+01]])"
            ]
          },
          "metadata": {
            "tags": []
          },
          "execution_count": 13
        }
      ]
    },
    {
      "cell_type": "markdown",
      "metadata": {
        "id": "m92gsZo-8TcP"
      },
      "source": [
        "11) Use the OLS function to confirm your answer in 10)."
      ]
    },
    {
      "cell_type": "code",
      "metadata": {
        "id": "1k7mU2R-lGeL",
        "outputId": "c1fcbccc-fd7d-4ef5-e018-136a29ecc99d",
        "colab": {
          "base_uri": "https://localhost:8080/"
        }
      },
      "source": [
        "model = ols('Brain ~ Head + Age',data=df).fit()\r\n",
        "print(model.params)"
      ],
      "execution_count": 14,
      "outputs": [
        {
          "output_type": "stream",
          "text": [
            "Intercept    347.550501\n",
            "Head           0.260439\n",
            "Age          -20.731645\n",
            "dtype: float64\n"
          ],
          "name": "stdout"
        }
      ]
    },
    {
      "cell_type": "markdown",
      "metadata": {
        "id": "J10sSUChlzRH"
      },
      "source": [
        "#Use the following information to answer the assignment questions 12) - 16)."
      ]
    },
    {
      "cell_type": "markdown",
      "metadata": {
        "id": "9k2KIZbTl2kb"
      },
      "source": [
        "The song writing collaboration between John Lennon and Paul McCartney was one of the most productive in music history.  Unlike many other partnerships where one individual wrote lyrics and one wrote music, Lennon and McCartney composed both, and it was decided that any song that was written would be credited to both.  In the beginning of their relationship, many of their songs were truly collabroative.  However, later on, they often worked separately with little to no input from the other.    "
      ]
    },
    {
      "cell_type": "markdown",
      "metadata": {
        "id": "LsUaHKcEnhqc"
      },
      "source": [
        "Because of extensive reporting on the Beatles over the years, it is generally known if a Lennon-McCartney song was a true collabortion, primarily (or totally) writen by Lennon, or primarily (or totally) written by McCartney.  \n",
        "\n",
        "However, there are several disputed songs where both Lennon and McCartney at times claimed to be the sole (or primary) composer.\n",
        "\n",
        "We will now use cosine similarity to determine if *Ticket to Ride* (disputed) is most similar to *From Me to You* (collabortive, not disputed) or *Strawberry Fields* (Lennon, not disputed).\n",
        "\n",
        "From the Wikipedia article on the Lennon-McCartney Partnership: Lennon said that McCartney's contribution was limited to \"the way Ringo played the drums\".In Many Years from Now, McCartney said \"we sat down and wrote it together ... give him 60 percent of it.\""
      ]
    },
    {
      "cell_type": "markdown",
      "metadata": {
        "id": "MVipjsqR9o5y"
      },
      "source": [
        "12) Import the text of Strawberry Fields and calculate the freqency of song lyrics using the code below."
      ]
    },
    {
      "cell_type": "code",
      "metadata": {
        "id": "6SuKxo-lYsCR",
        "outputId": "b8f6c6b6-d75f-4234-d560-f20590dee2b5",
        "colab": {
          "base_uri": "https://localhost:8080/",
          "height": 390
        }
      },
      "source": [
        "Strawberry_Fields = \"let me take you down cause Im going to Strawberry Fields nothing is real and nothing to get hung about Strawberry Fields forever living is easy with eyes closed misunderstanding all you see its getting hard to be someone but it all works out it doesnt matter much to me let me take you down cause Im going to Strawberry Fields nothing is real and nothing to get hung about Strawberry Fields forever no one I think is in my tree I mean it must be high or low that is you cant you know tune in but its all right that is I think its not too bad let me take you down cause Im going to Strawberry Fields nothing is real and nothing to get hung about Strawberry Fields forever always no sometimes think but you know I know when it's a dream I think er no I mean er yes but its all wrong that is I think I disagree let me take you down cause Im going to Strawberry Fields nothing is real and nothing to get hung about Strawberry Fields forever Strawberry Fields forever Strawberry Fields forever\"\n",
        "Strawberry_df = pd.DataFrame({\"Words\": Strawberry_Fields.split()})\n",
        "Strawberry_df_Freq = pd.DataFrame(pd.crosstab(index=Strawberry_df['Words'],columns=['count']))\n",
        "Strawberry_df_Freq[0:10]"
      ],
      "execution_count": 15,
      "outputs": [
        {
          "output_type": "execute_result",
          "data": {
            "text/html": [
              "<div>\n",
              "<style scoped>\n",
              "    .dataframe tbody tr th:only-of-type {\n",
              "        vertical-align: middle;\n",
              "    }\n",
              "\n",
              "    .dataframe tbody tr th {\n",
              "        vertical-align: top;\n",
              "    }\n",
              "\n",
              "    .dataframe thead th {\n",
              "        text-align: right;\n",
              "    }\n",
              "</style>\n",
              "<table border=\"1\" class=\"dataframe\">\n",
              "  <thead>\n",
              "    <tr style=\"text-align: right;\">\n",
              "      <th>col_0</th>\n",
              "      <th>count</th>\n",
              "    </tr>\n",
              "    <tr>\n",
              "      <th>Words</th>\n",
              "      <th></th>\n",
              "    </tr>\n",
              "  </thead>\n",
              "  <tbody>\n",
              "    <tr>\n",
              "      <th>Fields</th>\n",
              "      <td>10</td>\n",
              "    </tr>\n",
              "    <tr>\n",
              "      <th>I</th>\n",
              "      <td>8</td>\n",
              "    </tr>\n",
              "    <tr>\n",
              "      <th>Im</th>\n",
              "      <td>4</td>\n",
              "    </tr>\n",
              "    <tr>\n",
              "      <th>Strawberry</th>\n",
              "      <td>10</td>\n",
              "    </tr>\n",
              "    <tr>\n",
              "      <th>a</th>\n",
              "      <td>1</td>\n",
              "    </tr>\n",
              "    <tr>\n",
              "      <th>about</th>\n",
              "      <td>4</td>\n",
              "    </tr>\n",
              "    <tr>\n",
              "      <th>all</th>\n",
              "      <td>4</td>\n",
              "    </tr>\n",
              "    <tr>\n",
              "      <th>always</th>\n",
              "      <td>1</td>\n",
              "    </tr>\n",
              "    <tr>\n",
              "      <th>and</th>\n",
              "      <td>4</td>\n",
              "    </tr>\n",
              "    <tr>\n",
              "      <th>bad</th>\n",
              "      <td>1</td>\n",
              "    </tr>\n",
              "  </tbody>\n",
              "</table>\n",
              "</div>"
            ],
            "text/plain": [
              "col_0       count\n",
              "Words            \n",
              "Fields         10\n",
              "I               8\n",
              "Im              4\n",
              "Strawberry     10\n",
              "a               1\n",
              "about           4\n",
              "all             4\n",
              "always          1\n",
              "and             4\n",
              "bad             1"
            ]
          },
          "metadata": {
            "tags": []
          },
          "execution_count": 15
        }
      ]
    },
    {
      "cell_type": "markdown",
      "metadata": {
        "id": "K0z7cO3i_uQ_"
      },
      "source": [
        "13) Import the text of From Me to You and calculate the freqency of song lyrics using the code below."
      ]
    },
    {
      "cell_type": "code",
      "metadata": {
        "id": "jKcCwgydn0Rr",
        "outputId": "c33ac60f-c965-47b9-a4b6-2bc711a03458",
        "colab": {
          "base_uri": "https://localhost:8080/",
          "height": 390
        }
      },
      "source": [
        "From_Me = \"if there's anything that you want if there's anything I can do just call on me and Ill send it along with love from me to you Ive got everything that you want like a heart thats oh so true just call on me and Ill send it along with love from me to you Ive got arms that long to hold you and keep you by my side Ive got lips that long to kiss you and keep you satisfied oh if theres anything that you want if theres anything I can do just call on me and Ill send it along with love from me to you from me to you just call on me and Ill send it along with love from me to you Ive got arms that long to hold you and keep you by my side Ive got lips that long to kiss you and keep you satisfied oh if theres anything that you want if theres anything I can do just call on me and Ill send it along with love from me to you to you to you to you\"\r\n",
        "From_Me_df = pd.DataFrame({\"Words\":From_Me.split()})\r\n",
        "From_Me_Freq = pd.DataFrame(pd.crosstab(index=From_Me_df['Words'],columns=['count']))\r\n",
        "From_Me_Freq[0:10]"
      ],
      "execution_count": 16,
      "outputs": [
        {
          "output_type": "execute_result",
          "data": {
            "text/html": [
              "<div>\n",
              "<style scoped>\n",
              "    .dataframe tbody tr th:only-of-type {\n",
              "        vertical-align: middle;\n",
              "    }\n",
              "\n",
              "    .dataframe tbody tr th {\n",
              "        vertical-align: top;\n",
              "    }\n",
              "\n",
              "    .dataframe thead th {\n",
              "        text-align: right;\n",
              "    }\n",
              "</style>\n",
              "<table border=\"1\" class=\"dataframe\">\n",
              "  <thead>\n",
              "    <tr style=\"text-align: right;\">\n",
              "      <th>col_0</th>\n",
              "      <th>count</th>\n",
              "    </tr>\n",
              "    <tr>\n",
              "      <th>Words</th>\n",
              "      <th></th>\n",
              "    </tr>\n",
              "  </thead>\n",
              "  <tbody>\n",
              "    <tr>\n",
              "      <th>I</th>\n",
              "      <td>3</td>\n",
              "    </tr>\n",
              "    <tr>\n",
              "      <th>Ill</th>\n",
              "      <td>5</td>\n",
              "    </tr>\n",
              "    <tr>\n",
              "      <th>Ive</th>\n",
              "      <td>5</td>\n",
              "    </tr>\n",
              "    <tr>\n",
              "      <th>a</th>\n",
              "      <td>1</td>\n",
              "    </tr>\n",
              "    <tr>\n",
              "      <th>along</th>\n",
              "      <td>5</td>\n",
              "    </tr>\n",
              "    <tr>\n",
              "      <th>and</th>\n",
              "      <td>9</td>\n",
              "    </tr>\n",
              "    <tr>\n",
              "      <th>anything</th>\n",
              "      <td>6</td>\n",
              "    </tr>\n",
              "    <tr>\n",
              "      <th>arms</th>\n",
              "      <td>2</td>\n",
              "    </tr>\n",
              "    <tr>\n",
              "      <th>by</th>\n",
              "      <td>2</td>\n",
              "    </tr>\n",
              "    <tr>\n",
              "      <th>call</th>\n",
              "      <td>5</td>\n",
              "    </tr>\n",
              "  </tbody>\n",
              "</table>\n",
              "</div>"
            ],
            "text/plain": [
              "col_0     count\n",
              "Words          \n",
              "I             3\n",
              "Ill           5\n",
              "Ive           5\n",
              "a             1\n",
              "along         5\n",
              "and           9\n",
              "anything      6\n",
              "arms          2\n",
              "by            2\n",
              "call          5"
            ]
          },
          "metadata": {
            "tags": []
          },
          "execution_count": 16
        }
      ]
    },
    {
      "cell_type": "markdown",
      "metadata": {
        "id": "UNFG_UOT9y2Z"
      },
      "source": [
        "13) Import the text of Ticket to Ride using the code below."
      ]
    },
    {
      "cell_type": "code",
      "metadata": {
        "id": "Fh89MZnHAgcc",
        "outputId": "14fa9c12-3625-4320-b344-e0e9cc5bed6b",
        "colab": {
          "base_uri": "https://localhost:8080/",
          "height": 390
        }
      },
      "source": [
        "Ticket_To = \"I think Im gonna be sad I think its today yeah the girl thats driving me mad is going away shes got a ticket to ride shes got a ticket to ride shes got a ticket to ride but she dont care she said that living with me is bringing her down yeah for she would never be free when I was around shes got a ticket to ride shes got a ticket to ride shes got a ticket to ride but she dont care I dont know why shes ridin so high she ought to think twice she ought to do right by me before she gets to saying goodbye she ought to think twice she ought to do right by me I think Im gonna be sad I think its today yeah the girl thats driving me mad is going away yeah shes got a ticket to ride shes got a ticket to ride shes got a ticket to ride but she dont care I dont know why shes ridin so high she ought to think twice she ought to do right by me before she gets to saying goodbye she ought to think twice she ought to do right by me she said that living with me is bringing her down yeah for she would never be free when I was around ah shes got a ticket to ride shes got a ticket to ride shes got a ticket to ride but she dont care my baby dont care my baby dont care my baby dont care my baby dont care my baby dont care my baby dont care\"\n",
        "Ticket_To_df = pd.DataFrame({'Words':Ticket_To.split()})\n",
        "Ticket_To_Freq = pd.DataFrame(pd.crosstab(index=Ticket_To_df['Words'],columns=['count']))\n",
        "Ticket_To_Freq[0:10]"
      ],
      "execution_count": 17,
      "outputs": [
        {
          "output_type": "execute_result",
          "data": {
            "text/html": [
              "<div>\n",
              "<style scoped>\n",
              "    .dataframe tbody tr th:only-of-type {\n",
              "        vertical-align: middle;\n",
              "    }\n",
              "\n",
              "    .dataframe tbody tr th {\n",
              "        vertical-align: top;\n",
              "    }\n",
              "\n",
              "    .dataframe thead th {\n",
              "        text-align: right;\n",
              "    }\n",
              "</style>\n",
              "<table border=\"1\" class=\"dataframe\">\n",
              "  <thead>\n",
              "    <tr style=\"text-align: right;\">\n",
              "      <th>col_0</th>\n",
              "      <th>count</th>\n",
              "    </tr>\n",
              "    <tr>\n",
              "      <th>Words</th>\n",
              "      <th></th>\n",
              "    </tr>\n",
              "  </thead>\n",
              "  <tbody>\n",
              "    <tr>\n",
              "      <th>I</th>\n",
              "      <td>8</td>\n",
              "    </tr>\n",
              "    <tr>\n",
              "      <th>Im</th>\n",
              "      <td>2</td>\n",
              "    </tr>\n",
              "    <tr>\n",
              "      <th>a</th>\n",
              "      <td>12</td>\n",
              "    </tr>\n",
              "    <tr>\n",
              "      <th>ah</th>\n",
              "      <td>1</td>\n",
              "    </tr>\n",
              "    <tr>\n",
              "      <th>around</th>\n",
              "      <td>2</td>\n",
              "    </tr>\n",
              "    <tr>\n",
              "      <th>away</th>\n",
              "      <td>2</td>\n",
              "    </tr>\n",
              "    <tr>\n",
              "      <th>baby</th>\n",
              "      <td>6</td>\n",
              "    </tr>\n",
              "    <tr>\n",
              "      <th>be</th>\n",
              "      <td>4</td>\n",
              "    </tr>\n",
              "    <tr>\n",
              "      <th>before</th>\n",
              "      <td>2</td>\n",
              "    </tr>\n",
              "    <tr>\n",
              "      <th>bringing</th>\n",
              "      <td>2</td>\n",
              "    </tr>\n",
              "  </tbody>\n",
              "</table>\n",
              "</div>"
            ],
            "text/plain": [
              "col_0     count\n",
              "Words          \n",
              "I             8\n",
              "Im            2\n",
              "a            12\n",
              "ah            1\n",
              "around        2\n",
              "away          2\n",
              "baby          6\n",
              "be            4\n",
              "before        2\n",
              "bringing      2"
            ]
          },
          "metadata": {
            "tags": []
          },
          "execution_count": 17
        }
      ]
    },
    {
      "cell_type": "markdown",
      "metadata": {
        "id": "c8ieic21sH4j"
      },
      "source": [
        "14) Concatenate Ticket to Ride and Strawberry Fields and calculate the cosine similarity."
      ]
    },
    {
      "cell_type": "code",
      "metadata": {
        "id": "5GYIQ3jf88MI",
        "outputId": "5e5d4fb5-4d0f-48b4-faee-7d48addfe413",
        "colab": {
          "base_uri": "https://localhost:8080/"
        }
      },
      "source": [
        "from numpy import dot\n",
        "from numpy.linalg import norm\n",
        "Songs = [Strawberry_df_Freq,Ticket_To_Freq]\n",
        "All_Word_Count = pd.concat(Songs,axis=1)\n",
        "All_Word_Count.fillna(0,inplace=True)\n",
        "All_Word_Count.columns  = ['Strawberry Fields','Ticket To Ride']\n",
        "cos_sim = dot(All_Word_Count['Strawberry Fields'], All_Word_Count['Ticket To Ride'])/(norm(All_Word_Count['Strawberry Fields'])*norm(All_Word_Count['Ticket To Ride']))\n",
        "print(cos_sim)"
      ],
      "execution_count": 18,
      "outputs": [
        {
          "output_type": "stream",
          "text": [
            "0.324035859004908\n"
          ],
          "name": "stdout"
        }
      ]
    },
    {
      "cell_type": "markdown",
      "metadata": {
        "id": "JCFn7l2XCefQ"
      },
      "source": [
        "15) Concatenate Ticket to Ride and From Me to You and calculate the cosine similarity."
      ]
    },
    {
      "cell_type": "code",
      "metadata": {
        "id": "uoj2UbIBCbJ5",
        "outputId": "0a1eb02c-de11-4ddc-ab2f-2c8fad1ed941",
        "colab": {
          "base_uri": "https://localhost:8080/"
        }
      },
      "source": [
        "Songs = [Ticket_To_Freq,From_Me_Freq]\n",
        "All_Word_Count = pd.concat(Songs,axis=1)\n",
        "All_Word_Count.fillna(0,inplace=True)\n",
        "All_Word_Count.columns  = ['Ticket To Ride','From Me to You']\n",
        "cos_sim = dot(All_Word_Count['Ticket To Ride'], All_Word_Count['From Me to You'])/(norm(All_Word_Count['Ticket To Ride'])*norm(All_Word_Count['From Me to You']))\n",
        "print(cos_sim)"
      ],
      "execution_count": 19,
      "outputs": [
        {
          "output_type": "stream",
          "text": [
            "0.2882268853551227\n"
          ],
          "name": "stdout"
        }
      ]
    },
    {
      "cell_type": "markdown",
      "metadata": {
        "id": "hJ-wIIvzuBaV"
      },
      "source": [
        "16) What is your conclusion about Ticket to Ride?  Does it appear most similar to Strawberry Fields (Lennon) or From Me to You (collaborative)?"
      ]
    },
    {
      "cell_type": "markdown",
      "metadata": {
        "id": "SoURb1HbDIhK"
      },
      "source": [
        "Answer: According to the cosine simularity tests, Ticket To Ride is most similar to Strawberry Fields written by Lennon."
      ]
    }
  ]
}